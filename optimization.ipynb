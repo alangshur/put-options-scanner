{
 "cells": [
  {
   "cell_type": "code",
   "execution_count": 50,
   "metadata": {},
   "outputs": [],
   "source": [
    "from src.api.tradier import TradierAPI\n",
    "from src.api.polygon import PolygonAPI\n",
    "import matplotlib.pyplot as plt\n",
    "import numpy.polynomial.polynomial as poly\n",
    "import numpy as np\n",
    "import time"
   ]
  },
  {
   "cell_type": "code",
   "execution_count": 8,
   "metadata": {},
   "outputs": [],
   "source": [
    "api = TradierAPI()\n",
    "chain, _, _, _ = api.fetch_chain('AAPL', '2020-10-09', greeks=True)"
   ]
  },
  {
   "cell_type": "code",
   "execution_count": 10,
   "metadata": {},
   "outputs": [],
   "source": [
    "api = PolygonAPI()\n",
    "underlying = api.fetch_last_quote('AAPL')"
   ]
  },
  {
   "cell_type": "code",
   "execution_count": 37,
   "metadata": {},
   "outputs": [],
   "source": [
    "strikes = np.array([l['strike'] for l in chain if l['option_type'] == 'put' and l['strike'] > underlying])\n",
    "deltas = np.array([l['greeks']['delta'] for l in chain if l['option_type'] == 'put' and l['strike'] > underlying])"
   ]
  },
  {
   "cell_type": "code",
   "execution_count": 69,
   "metadata": {},
   "outputs": [
    {
     "name": "stdout",
     "output_type": "stream",
     "text": [
      "Total time: 0.5190372467041016ms\n"
     ]
    }
   ],
   "source": [
    "now = time.time()\n",
    "coefs = poly.polyfit(strikes, deltas, 11)\n",
    "ffit = poly.polyval(strikes, coefs)\n",
    "then = time.time()\n",
    "print('Total time: {}ms'.format((then - now) * 1000))"
   ]
  },
  {
   "cell_type": "code",
   "execution_count": 70,
   "metadata": {},
   "outputs": [
    {
     "data": {
      "image/png": "[encoded data removed]",
      "text/plain": [
       "<Figure size 432x288 with 1 Axes>"
      ]
     },
     "metadata": {
      "needs_background": "light"
     },
     "output_type": "display_data"
    }
   ],
   "source": [
    "plt.plot(strikes, deltas)\n",
    "plt.plot(strikes, ffit)\n",
    "plt.axvline(x=underlying, color='k', linestyle='--')\n",
    "plt.show()"
   ]
  },
  {
   "cell_type": "code",
   "execution_count": 71,
   "metadata": {},
   "outputs": [
    {
     "name": "stdout",
     "output_type": "stream",
     "text": [
      "-0.7430544582894072\n"
     ]
    }
   ],
   "source": [
    "print(poly.polyval(120.14351345, coefs))"
   ]
  }
 ],
 "metadata": {
  "kernelspec": {
   "display_name": "env",
   "language": "python",
   "name": "env"
  },
  "language_info": {
   "codemirror_mode": {
    "name": "ipython",
    "version": 3
   },
   "file_extension": ".py",
   "mimetype": "text/x-python",
   "name": "python",
   "nbconvert_exporter": "python",
   "pygments_lexer": "ipython3",
   "version": "3.8.5"
  }
 },
 "nbformat": 4,
 "nbformat_minor": 4
}
